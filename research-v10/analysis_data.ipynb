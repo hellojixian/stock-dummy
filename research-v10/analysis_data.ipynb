{
 "cells": [
  {
   "cell_type": "code",
   "execution_count": 15,
   "metadata": {},
   "outputs": [
    {
     "name": "stdout",
     "output_type": "stream",
     "text": [
      "data loaded\n"
     ]
    }
   ],
   "source": [
    "import datetime\n",
    "import pandas as pd\n",
    "import numpy as np\n",
    "import math, sys, os\n",
    "import scipy.stats\n",
    "\n",
    "filename = 'data/dataset-labeled-2.csv'\n",
    "dataset = pd.read_csv(filename)\n",
    "print('data loaded')"
   ]
  },
  {
   "cell_type": "code",
   "execution_count": null,
   "metadata": {},
   "outputs": [],
   "source": [
    "dataset[dataset.prev_0>0]['prev_0'].quantile(0.25)\n"
   ]
  },
  {
   "cell_type": "code",
   "execution_count": 2,
   "metadata": {},
   "outputs": [
    {
     "name": "stdout",
     "output_type": "stream",
     "text": [
      "pos_ma_60_q25=-6.53\n",
      "pos_ma_60_q50=1.11\n",
      "pos_ma_60_q75=9.11\n",
      "                                                  \n",
      "pos_ma_30_q25=-4.62\n",
      "pos_ma_30_q50=0.69\n",
      "pos_ma_30_q75=6.2\n",
      "                                                  \n",
      "pos_ma_20_q25=-3.76\n",
      "pos_ma_20_q50=0.55\n",
      "pos_ma_20_q75=4.82\n",
      "                                                  \n",
      "pos_ma_10_q25=-2.55\n",
      "pos_ma_10_q50=0.28\n",
      "pos_ma_10_q75=3.08\n",
      "                                                  \n",
      "pos_ma_5_q25=-1.7\n",
      "pos_ma_5_q50=0.14\n",
      "pos_ma_5_q75=1.95\n",
      "                                                  \n"
     ]
    }
   ],
   "source": [
    "for i in [60,30,20,10,5]:\n",
    "    field = 'pos_ma_{}'.format(i)\n",
    "    print(\"{}_q{}={}\".format(field,25,dataset[field].quantile(0.25)))\n",
    "    print(\"{}_q{}={}\".format(field,50,dataset[field].quantile(0.50)))\n",
    "    print(\"{}_q{}={}\".format(field,75,dataset[field].quantile(0.75)))\n",
    "    print(\" \"*50)"
   ]
  },
  {
   "cell_type": "code",
   "execution_count": null,
   "metadata": {},
   "outputs": [],
   "source": [
    "q=\"(trend_60==0) & (trend_30==0) & (trend_20==0) & (trend_10==0) & (trend_5==0) & (trend_3==0) & (amp_60<22.65) & (amp_10<5.98) & (prev_3>0) & (prev_2<=0) & (prev_1<0 & prev_1>=-1.59) & (prev_0>1.52)\"\n",
    "dataset[dataset.eval(q)].shape"
   ]
  },
  {
   "cell_type": "code",
   "execution_count": 3,
   "metadata": {},
   "outputs": [
    {
     "name": "stdout",
     "output_type": "stream",
     "text": [
      "4.84\n",
      "7.73\n",
      "12.66\n"
     ]
    }
   ],
   "source": [
    "# print(dataset['close'].quantile(0.01))\n",
    "print(dataset['close'].quantile(0.25))\n",
    "print(dataset['close'].quantile(0.50))\n",
    "print(dataset['close'].quantile(0.75))\n",
    "# print(dataset['close'].quantile(0.98))\n"
   ]
  },
  {
   "cell_type": "code",
   "execution_count": 17,
   "metadata": {},
   "outputs": [
    {
     "name": "stdout",
     "output_type": "stream",
     "text": [
      "prev_vol_1_q25=-26.31\n",
      "prev_vol_1_q50=-3.8\n",
      "prev_vol_1_q75=40.88\n",
      "                                                  \n"
     ]
    }
   ],
   "source": [
    "for i in [1]:\n",
    "    field = 'prev_vol_{}'.format(i)\n",
    "    print(\"{}_q{}={}\".format(field,25,dataset[field].quantile(0.25)))\n",
    "    print(\"{}_q{}={}\".format(field,50,dataset[field].quantile(0.50)))\n",
    "    print(\"{}_q{}={}\".format(field,75,dataset[field].quantile(0.80)))\n",
    "    print(\" \"*50)"
   ]
  },
  {
   "cell_type": "code",
   "execution_count": null,
   "metadata": {},
   "outputs": [],
   "source": []
  }
 ],
 "metadata": {
  "kernelspec": {
   "display_name": "Python 3",
   "language": "python",
   "name": "python3"
  },
  "language_info": {
   "codemirror_mode": {
    "name": "ipython",
    "version": 3
   },
   "file_extension": ".py",
   "mimetype": "text/x-python",
   "name": "python",
   "nbconvert_exporter": "python",
   "pygments_lexer": "ipython3",
   "version": "3.5.3"
  }
 },
 "nbformat": 4,
 "nbformat_minor": 2
}
