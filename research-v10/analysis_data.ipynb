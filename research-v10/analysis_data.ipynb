{
 "cells": [
  {
   "cell_type": "code",
   "execution_count": 27,
   "metadata": {},
   "outputs": [
    {
     "name": "stdout",
     "output_type": "stream",
     "text": [
      "data loaded\n"
     ]
    }
   ],
   "source": [
    "import datetime\n",
    "import pandas as pd\n",
    "import numpy as np\n",
    "import math, sys, os\n",
    "import scipy.stats\n",
    "\n",
    "filename = 'data/dataset-labeled.csv'\n",
    "dataset = pd.read_csv(filename)\n",
    "print('data loaded')"
   ]
  },
  {
   "cell_type": "code",
   "execution_count": null,
   "metadata": {},
   "outputs": [],
   "source": [
    "up = dataset[dataset.change>0].shape[0]\n",
    "down = dataset[dataset.change<0].shape[0]\n",
    "total = dataset.shape[0]\n",
    "print(up/down)\n",
    "print(up/total)\n",
    "print(down/total)"
   ]
  },
  {
   "cell_type": "code",
   "execution_count": null,
   "metadata": {},
   "outputs": [],
   "source": [
    "upc = dataset[dataset.change>0]['change'].sum()\n",
    "downc = -dataset[dataset.change<0]['change'].sum()\n",
    "print(upc, downc, upc/downc)"
   ]
  },
  {
   "cell_type": "code",
   "execution_count": null,
   "metadata": {},
   "outputs": [],
   "source": [
    "stat = pd.DataFrame()\n",
    "stat['up']=dataset[['security','change']][dataset.change>0].groupby(['security']).count()['change'].astype('i')\n",
    "stat['down']=dataset[['security','change']][dataset.change<0].groupby(['security']).count()['change'].astype('i')\n",
    "stat['rate'] = stat['up']/stat['down']\n",
    "stat.dropna(inplace=True)\n",
    "\n",
    "scipy.stats.describe(stat['rate'])"
   ]
  },
  {
   "cell_type": "code",
   "execution_count": null,
   "metadata": {
    "scrolled": true
   },
   "outputs": [],
   "source": [
    "import matplotlib.pyplot as plt\n",
    "import matplotlib.ticker as ticker\n",
    "import numpy as np\n",
    "\n",
    "stat = stat.sort_values(by=['rate'])\n",
    "plt.rcParams['figure.figsize'] = [20, 5]\n",
    "ax = stat['rate'].plot.bar()\n",
    "ax.set_xticklabels([])\n",
    "ax.set_ylim(0,1.5)\n",
    "\n",
    "ax.yaxis.set_major_locator(ticker.MultipleLocator(0.5))\n",
    "ax.yaxis.set_minor_locator(ticker.MultipleLocator(0.2))\n",
    "ax.set_xticks([])\n",
    "\n",
    "ax.grid(color='gray',which='major',linestyle='dashed',alpha=0.9)\n",
    "ax.grid(color='gray',which='minor',linestyle='dashed',alpha=0.65)\n",
    "plt.show()"
   ]
  },
  {
   "cell_type": "code",
   "execution_count": null,
   "metadata": {},
   "outputs": [],
   "source": [
    "stat[stat.rate>1.15].shape[0]/stat.shape[0]"
   ]
  },
  {
   "cell_type": "code",
   "execution_count": null,
   "metadata": {},
   "outputs": [],
   "source": [
    "dataset[dataset.action=='buy'].shape[0]/ total"
   ]
  },
  {
   "cell_type": "code",
   "execution_count": 2,
   "metadata": {},
   "outputs": [
    {
     "name": "stdout",
     "output_type": "stream",
     "text": [
      "600648.XSHG (967, 12)\n",
      "2\n",
      "3\n",
      "5\n",
      "7\n",
      "11\n",
      "13\n",
      "17\n",
      "19\n",
      "23\n",
      "29\n",
      "31\n",
      "37\n",
      "41\n",
      "43\n",
      "47\n",
      "53\n",
      "59\n",
      "61\n",
      "67\n",
      "71\n",
      "73\n",
      "79\n",
      "83\n",
      "89\n",
      "97\n",
      "101\n",
      "103\n",
      "107\n",
      "109\n",
      "113\n",
      "127\n",
      "131\n",
      "137\n",
      "139\n",
      "149\n",
      "done\n"
     ]
    }
   ],
   "source": [
    "from lib.jqdata import *\n",
    "from lib.func import *\n",
    "np.random.seed(2)\n",
    "security_list = get_all_securites().sample(1)\n",
    "security = security_list['security'].iloc[0]\n",
    "\n",
    "history = dataset[dataset.security==security].copy()\n",
    "print(security, history.shape)\n",
    "\n",
    "def stat_gn(v):\n",
    "    return v[v<0].shape[0]/(len(v)-(v[v==0].shape[0]))\n",
    "\n",
    "pn = get_prime_numbers(2,150)\n",
    "\n",
    "for w in pn:\n",
    "    history['r_{}'.format(w)] = history['change'].rolling(window=w).apply(func=stat_gn, raw=False)\n",
    "    print(w)\n",
    "    \n",
    "history.to_csv('data/stat-{}.csv'.format(security))\n",
    "print('done')"
   ]
  },
  {
   "cell_type": "code",
   "execution_count": 31,
   "metadata": {},
   "outputs": [
    {
     "name": "stdout",
     "output_type": "stream",
     "text": [
      "period:002\trange:0.000 0.000-1.000 1.000 \tmean:0.506\t0.1891\t-1.660\t-0.024\n",
      "period:003\trange:0.000 0.333-0.667 1.000 \tmean:0.477\t0.1237\t-1.165\t0.119\n",
      "period:005\trange:0.000 0.200-0.600 1.000 \tmean:0.464\t0.0758\t-0.682\t0.375\n",
      "period:007\trange:0.000 0.286-0.571 1.000 \tmean:0.455\t0.0464\t-0.297\t0.146\n",
      "period:011\trange:0.000 0.364-0.545 0.818 \tmean:0.455\t0.0248\t0.138\t-0.194\n",
      "period:013\trange:0.000 0.385-0.538 0.769 \tmean:0.450\t0.0188\t0.955\t-0.453\n",
      "period:017\trange:0.000 0.412-0.529 0.765 \tmean:0.461\t0.0163\t1.133\t-0.576\n",
      "period:019\trange:0.105 0.421-0.526 0.684 \tmean:0.462\t0.0112\t0.783\t-0.602\n",
      "period:023\trange:0.174 0.400-0.522 0.652 \tmean:0.471\t0.0081\t0.734\t-0.696\n",
      "period:029\trange:0.276 0.414-0.517 0.690 \tmean:0.473\t0.0061\t0.233\t-0.147\n",
      "period:031\trange:0.258 0.419-0.516 0.677 \tmean:0.472\t0.0051\t0.615\t-0.039\n",
      "period:037\trange:0.270 0.432-0.514 0.649 \tmean:0.469\t0.0050\t0.435\t-0.169\n",
      "period:041\trange:0.317 0.439-0.506 0.634 \tmean:0.469\t0.0041\t0.292\t0.010\n",
      "period:043\trange:0.326 0.442-0.512 0.628 \tmean:0.469\t0.0042\t-0.013\t-0.026\n",
      "period:047\trange:0.340 0.430-0.500 0.617 \tmean:0.465\t0.0037\t-0.305\t0.019\n",
      "period:053\trange:0.340 0.423-0.500 0.604 \tmean:0.466\t0.0033\t-0.425\t0.039\n",
      "period:059\trange:0.339 0.431-0.504 0.576 \tmean:0.465\t0.0030\t-0.483\t-0.145\n",
      "period:061\trange:0.344 0.430-0.496 0.574 \tmean:0.463\t0.0029\t-0.507\t-0.200\n",
      "period:067\trange:0.343 0.424-0.507 0.567 \tmean:0.467\t0.0028\t-0.593\t-0.246\n",
      "period:071\trange:0.352 0.426-0.514 0.586 \tmean:0.467\t0.0029\t-0.548\t-0.282\n",
      "period:073\trange:0.356 0.431-0.507 0.597 \tmean:0.469\t0.0027\t-0.495\t-0.183\n",
      "period:079\trange:0.354 0.436-0.506 0.564 \tmean:0.468\t0.0021\t-0.617\t-0.290\n",
      "period:083\trange:0.366 0.434-0.500 0.549 \tmean:0.468\t0.0021\t-0.812\t-0.150\n",
      "period:089\trange:0.364 0.435-0.500 0.557 \tmean:0.468\t0.0018\t-0.583\t-0.087\n",
      "period:097\trange:0.354 0.438-0.497 0.573 \tmean:0.467\t0.0017\t-0.204\t-0.092\n",
      "period:101\trange:0.370 0.440-0.497 0.560 \tmean:0.466\t0.0016\t-0.613\t-0.001\n",
      "period:103\trange:0.382 0.441-0.495 0.549 \tmean:0.467\t0.0016\t-0.791\t0.046\n",
      "period:107\trange:0.377 0.439-0.498 0.557 \tmean:0.467\t0.0015\t-0.757\t0.010\n",
      "period:109\trange:0.389 0.438-0.495 0.556 \tmean:0.467\t0.0016\t-0.767\t0.082\n",
      "period:113\trange:0.384 0.438-0.495 0.554 \tmean:0.467\t0.0016\t-0.798\t0.030\n",
      "period:127\trange:0.397 0.437-0.498 0.540 \tmean:0.467\t0.0013\t-0.958\t-0.018\n",
      "period:131\trange:0.392 0.438-0.498 0.546 \tmean:0.467\t0.0013\t-0.835\t-0.112\n",
      "period:137\trange:0.397 0.440-0.494 0.544 \tmean:0.466\t0.0012\t-0.797\t-0.052\n",
      "period:139\trange:0.399 0.435-0.496 0.543 \tmean:0.466\t0.0012\t-0.904\t-0.073\n",
      "period:149\trange:0.412 0.437-0.495 0.534 \tmean:0.467\t0.0011\t-1.173\t-0.088\n"
     ]
    }
   ],
   "source": [
    "history=history.dropna()\n",
    "for w in pn:\n",
    "    factor = history['r_{}'.format(w)]\n",
    "    st = scipy.stats.describe(factor)\n",
    "    print(\"period:{:03d}\\trange:{:.3f} {:.3f}-{:.3f} {:.3f} \\tmean:{:.3f}\\t{:.4f}\\t{:.3f}\\t{:.3f}\".format(w, \n",
    "      st.minmax[0],factor.quantile(0.25),factor.quantile(0.75),st.minmax[1],st.mean,st.variance, st.kurtosis, st.skewness))"
   ]
  },
  {
   "cell_type": "code",
   "execution_count": 86,
   "metadata": {},
   "outputs": [
    {
     "name": "stdout",
     "output_type": "stream",
     "text": [
      "600648.XSHG (967, 12)\n",
      "           pre_1    change      fu_2\n",
      "756937       NaN       NaN  0.006033\n",
      "756938       NaN -0.023564  0.001499\n",
      "756939 -0.023564  0.006033 -0.038922\n",
      "756940  0.006033  0.001499 -0.024922\n",
      "756941  0.001499 -0.038922 -0.014377\n",
      "...          ...       ...       ...\n",
      "757899 -0.010411  0.005260 -0.005656\n",
      "757900  0.005260  0.017792 -0.002585\n",
      "757901  0.017792 -0.005656 -0.009331\n",
      "757902 -0.005656 -0.002585       NaN\n",
      "757903 -0.002585 -0.009331       NaN\n",
      "\n",
      "[967 rows x 3 columns]\n",
      "452\n",
      "0.5508849557522124\n"
     ]
    }
   ],
   "source": [
    "from lib.jqdata import *\n",
    "from lib.func import *\n",
    "np.random.seed(2)\n",
    "security_list = get_all_securites().sample(1)\n",
    "security = security_list['security'].iloc[0]\n",
    "\n",
    "history = dataset[dataset.security==security].copy()\n",
    "print(security, history.shape)\n",
    "\n",
    "history['fu_2'] = history['change'].shift(periods=-2)\n",
    "history['fu_1'] = history['change'].shift(periods=-1)\n",
    "history['pre_1'] = history['change'].shift(periods=1)\n",
    "history['pre_2'] = history['change'].shift(periods=2)\n",
    "history['pre_3'] = history['change'].shift(periods=3)\n",
    "history['pre_4'] = history['change'].shift(periods=4)\n",
    "history['pre_5'] = history['change'].shift(periods=5)\n",
    "history['pre_6'] = history['change'].shift(periods=5)\n",
    "\n",
    "# query = \"pre_5>0 & pre_4>0 & pre_3>0 & pre_2<0 & pre_1<0 & change>0\"\n",
    "query = \"pre_1<0 & change>0\" #0.54\n",
    "query = \"change<0\" #0.55\n",
    "# query = \"pre_4<0 & pre_3<0 & pre_2<0 & pre_1<0 & change<0\" #0.60\n",
    "# query = \"pre_5<0 & pre_4<0 & pre_3<0 & pre_2<0 & pre_1<0 & change<0\" #0.66\n",
    "# query = \"pre_5<0 & pre_4<0 & pre_3<0 & pre_2<0 & pre_1<0 & change>0\" #0.69\n",
    "# query = \"pre_4<0 & pre_3<0 & pre_2<0 & pre_1<0 & change>0\" #0.56\n",
    "\n",
    "subset = history[history.eval(query)]\n",
    "print(history[['pre_1','change','fu_2']])\n",
    "print( len(subset))\n",
    "print( len(subset[subset.fu_1>=0])/len(subset))"
   ]
  },
  {
   "cell_type": "code",
   "execution_count": null,
   "metadata": {},
   "outputs": [],
   "source": []
  }
 ],
 "metadata": {
  "kernelspec": {
   "display_name": "Python 3",
   "language": "python",
   "name": "python3"
  },
  "language_info": {
   "codemirror_mode": {
    "name": "ipython",
    "version": 3
   },
   "file_extension": ".py",
   "mimetype": "text/x-python",
   "name": "python",
   "nbconvert_exporter": "python",
   "pygments_lexer": "ipython3",
   "version": "3.5.3"
  }
 },
 "nbformat": 4,
 "nbformat_minor": 2
}
