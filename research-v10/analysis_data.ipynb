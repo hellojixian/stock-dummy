{
 "cells": [
  {
   "cell_type": "code",
   "execution_count": 3,
   "metadata": {},
   "outputs": [
    {
     "name": "stdout",
     "output_type": "stream",
     "text": [
      "data loaded\n"
     ]
    }
   ],
   "source": [
    "import datetime\n",
    "import pandas as pd\n",
    "import numpy as np\n",
    "import math, sys, os\n",
    "import scipy.stats\n",
    "\n",
    "filename = 'data/dataset-labeled-2.csv'\n",
    "dataset = pd.read_csv(filename)\n",
    "print('data loaded')"
   ]
  },
  {
   "cell_type": "code",
   "execution_count": null,
   "metadata": {},
   "outputs": [],
   "source": [
    "dataset[dataset.prev_0>0]['prev_0'].quantile(0.25)\n"
   ]
  },
  {
   "cell_type": "code",
   "execution_count": 4,
   "metadata": {},
   "outputs": [
    {
     "name": "stdout",
     "output_type": "stream",
     "text": [
      "22.65\n",
      "32.88\n",
      "49.67\n"
     ]
    }
   ],
   "source": [
    "print(dataset['amp_60'].quantile(0.25))\n",
    "print(dataset['amp_60'].quantile(0.5))\n",
    "print(dataset['amp_60'].quantile(0.75))"
   ]
  },
  {
   "cell_type": "code",
   "execution_count": null,
   "metadata": {},
   "outputs": [],
   "source": [
    "q=\"(trend_60==0) & (trend_30==0) & (trend_20==0) & (trend_10==0) & (trend_5==0) & (trend_3==0) & (amp_60<22.65) & (amp_10<5.98) & (prev_3>0) & (prev_2<=0) & (prev_1<0 & prev_1>=-1.59) & (prev_0>1.52)\"\n",
    "dataset[dataset.eval(q)].shape"
   ]
  },
  {
   "cell_type": "code",
   "execution_count": null,
   "metadata": {},
   "outputs": [],
   "source": []
  }
 ],
 "metadata": {
  "kernelspec": {
   "display_name": "Python 3",
   "language": "python",
   "name": "python3"
  },
  "language_info": {
   "codemirror_mode": {
    "name": "ipython",
    "version": 3
   },
   "file_extension": ".py",
   "mimetype": "text/x-python",
   "name": "python",
   "nbconvert_exporter": "python",
   "pygments_lexer": "ipython3",
   "version": "3.5.3"
  }
 },
 "nbformat": 4,
 "nbformat_minor": 2
}
