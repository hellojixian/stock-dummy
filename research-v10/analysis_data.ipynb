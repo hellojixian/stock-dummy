{
 "cells": [
  {
   "cell_type": "code",
   "execution_count": 1,
   "metadata": {},
   "outputs": [
    {
     "name": "stdout",
     "output_type": "stream",
     "text": [
      "data loaded\n"
     ]
    }
   ],
   "source": [
    "import datetime\n",
    "import pandas as pd\n",
    "import numpy as np\n",
    "import math, sys, os\n",
    "import scipy.stats\n",
    "\n",
    "filename = 'data/dataset-labeled-2.csv'\n",
    "dataset = pd.read_csv(filename)\n",
    "print('data loaded')"
   ]
  },
  {
   "cell_type": "code",
   "execution_count": null,
   "metadata": {},
   "outputs": [],
   "source": [
    "dataset[dataset.prev_0>0]['prev_0'].quantile(0.25)\n"
   ]
  },
  {
   "cell_type": "code",
   "execution_count": 5,
   "metadata": {},
   "outputs": [
    {
     "name": "stdout",
     "output_type": "stream",
     "text": [
      "pos_60_q25=16.56\n",
      "pos_60_q50=44.83\n",
      "pos_60_q75=76.79\n",
      "                                                  \n",
      "pos_30_q25=15.85\n",
      "pos_30_q50=47.27\n",
      "pos_30_q75=80.97\n",
      "                                                  \n",
      "pos_20_q25=15.0\n",
      "pos_20_q50=49.12\n",
      "pos_20_q75=83.64\n",
      "                                                  \n",
      "pos_10_q25=11.9\n",
      "pos_10_q50=50.38\n",
      "pos_10_q75=89.29\n",
      "                                                  \n",
      "pos_5_q25=0.0\n",
      "pos_5_q50=50.98\n",
      "pos_5_q75=100.0\n",
      "                                                  \n"
     ]
    }
   ],
   "source": [
    "for i in [60,30,20,10,5]:\n",
    "    field = 'pos_{}'.format(i)\n",
    "    print(\"{}_q{}={}\".format(field,25,dataset[field].quantile(0.25)))\n",
    "    print(\"{}_q{}={}\".format(field,50,dataset[field].quantile(0.50)))\n",
    "    print(\"{}_q{}={}\".format(field,75,dataset[field].quantile(0.75)))\n",
    "    print(\" \"*50)"
   ]
  },
  {
   "cell_type": "code",
   "execution_count": null,
   "metadata": {},
   "outputs": [],
   "source": [
    "q=\"(trend_60==0) & (trend_30==0) & (trend_20==0) & (trend_10==0) & (trend_5==0) & (trend_3==0) & (amp_60<22.65) & (amp_10<5.98) & (prev_3>0) & (prev_2<=0) & (prev_1<0 & prev_1>=-1.59) & (prev_0>1.52)\"\n",
    "dataset[dataset.eval(q)].shape"
   ]
  },
  {
   "cell_type": "code",
   "execution_count": 10,
   "metadata": {},
   "outputs": [
    {
     "data": {
      "text/plain": [
       "20.33"
      ]
     },
     "execution_count": 10,
     "metadata": {},
     "output_type": "execute_result"
    }
   ],
   "source": [
    "dataset['amp_30'].quantile(0.50)"
   ]
  },
  {
   "cell_type": "code",
   "execution_count": null,
   "metadata": {},
   "outputs": [],
   "source": []
  }
 ],
 "metadata": {
  "kernelspec": {
   "display_name": "Python 3",
   "language": "python",
   "name": "python3"
  },
  "language_info": {
   "codemirror_mode": {
    "name": "ipython",
    "version": 3
   },
   "file_extension": ".py",
   "mimetype": "text/x-python",
   "name": "python",
   "nbconvert_exporter": "python",
   "pygments_lexer": "ipython3",
   "version": "3.5.3"
  }
 },
 "nbformat": 4,
 "nbformat_minor": 2
}
