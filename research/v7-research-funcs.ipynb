{
 "cells": [
  {
   "cell_type": "code",
   "execution_count": 6,
   "metadata": {},
   "outputs": [],
   "source": [
    "import json, math\n",
    "import pandas as pd\n",
    "import numpy as np\n",
    "df = pd.read_csv('data/featured-v7.1-HS300-2006-2016.csv', index_col=0)"
   ]
  },
  {
   "cell_type": "code",
   "execution_count": 32,
   "metadata": {},
   "outputs": [
    {
     "name": "stdout",
     "output_type": "stream",
     "text": [
      "73.83 -139.38\n",
      "-43.17 33.3236\n"
     ]
    }
   ],
   "source": [
    "factor = 'ma60_pos'\n",
    "print(df[factor].max(), df[factor].min())\n",
    "print(df[factor].quantile(0.01),df[factor].quantile(0.99))"
   ]
  },
  {
   "cell_type": "code",
   "execution_count": 179,
   "metadata": {},
   "outputs": [
    {
     "name": "stdout",
     "output_type": "stream",
     "text": [
      "[ 0.    0.7  -1.4   2.13 -0.69  2.78  0.    1.39  2.08  6.94  4.1   4.1\n",
      "  2.2   0.73  5.07  0.38  0.89  0.72  0.87]\n",
      "pre_c3_u       6.03\n",
      "pre_c3_d      -6.68\n",
      "pre_c2_u       7.27\n",
      "pre_c2_d      -3.04\n",
      "pre_c1_u      -0.66\n",
      "pre_c1_d      -6.23\n",
      "today_c_u      7.59\n",
      "today_c_d     -5.06\n",
      "up_l_u        -0.71\n",
      "up_l_d        -6.16\n",
      "dn_l_u        10.00\n",
      "dn_l_d         3.32\n",
      "open_c_u       4.04\n",
      "open_c_d      -2.66\n",
      "ma5_pos_u      1.09\n",
      "ma5_pos_d     -7.35\n",
      "ma10_pos_u     3.48\n",
      "ma10_pos_d   -12.42\n",
      "ma60_pos_u     8.35\n",
      "ma60_pos_d   -32.75\n",
      "ma5_ang_u     33.56\n",
      "ma5_ang_d      1.36\n",
      "ma10_ang_u    19.73\n",
      "ma10_ang_d    -2.44\n",
      "ma60_ang_u    17.91\n",
      "ma60_ang_d     2.65\n",
      "p5_wr_u        5.35\n",
      "p5_wr_d      -10.15\n",
      "p10_wr_u      24.32\n",
      "p10_wr_d     -17.00\n",
      "prewr1_u       1.21\n",
      "prewr1_d       0.88\n",
      "win_r_u        1.54\n",
      "win_r_d        1.01\n",
      "h100_pos_u     1.50\n",
      "h100_pos_d     1.13\n",
      "h10_pos_u      1.72\n",
      "h10_pos_d      0.89\n",
      "dtype: float64\n"
     ]
    }
   ],
   "source": [
    "pd.set_option('display.max_rows', 500)\n",
    "pd.set_option('display.max_columns', 500)\n",
    "pd.set_option('display.width', 1000)\n",
    "\n",
    "def min_max_range(x, range_values):\n",
    "    return [round( ((xx - min(x)) / (1.0*(max(x) - min(x)))) * (range_values[1] - range_values[0]) + range_values[0], 2) for xx in x]\n",
    "\n",
    "scalers = pd.DataFrame()\n",
    "factors = df.columns.drop(['date','fu_c1','fu_c2', 'fu_c3', 'fu_c4']).values\n",
    "for factor in factors:\n",
    "    scaler = pd.Series()\n",
    "    scaler.name = factor\n",
    "    scaler['max'] = df[factor].quantile(0.99)\n",
    "    scaler['min'] = df[factor].quantile(0.01)\n",
    "    scaler['med'] = scaler.mean()\n",
    "    scalers = scalers.append(scaler)\n",
    "\n",
    "sample = df[factors][:1]\n",
    "dna = np.random.rand(1,1,sample.shape[1]*2)[0][0]*10\n",
    "decodedDNA = pd.Series()\n",
    "for i in range(len(factors)):\n",
    "    factor = factors[i]\n",
    "    dna_up_idx, dna_down_idx = i*2, i*2+1\n",
    "\n",
    "    dna_up_bias    = min_max_range([0,dna[dna_up_idx],10], scalers.loc[factor,['med','max']].values)[1]\n",
    "    dna_down_bias  = min_max_range([0,dna[dna_down_idx],10], scalers.loc[factor,['min','med']].values)[1]    \n",
    "    \n",
    "    decodedDNA[factor+'_u'] = sample[factor].values[0]+dna_up_bias\n",
    "    decodedDNA[factor+'_d'] = sample[factor].values[0]+dna_down_bias\n",
    "\n",
    "print(sample.values[0])\n",
    "print(decodedDNA)\n"
   ]
  },
  {
   "cell_type": "code",
   "execution_count": 172,
   "metadata": {},
   "outputs": [
    {
     "name": "stdout",
     "output_type": "stream",
     "text": [
      "[-10.0, -4.0, 10.0]\n"
     ]
    }
   ],
   "source": [
    "\n",
    "#定义函数\n",
    "def min_max_range(x, range_values):\n",
    "    return [round( ((xx - min(x)) / (1.0*(max(x) - min(x)))) * (range_values[1] - range_values[0]) + range_values[0], 2) for xx in x]\n",
    "\n",
    "if __name__ == '__main__':\n",
    "    print(min_max_range([0,0.3,1], (-10, 10)))    \n"
   ]
  },
  {
   "cell_type": "code",
   "execution_count": null,
   "metadata": {},
   "outputs": [],
   "source": []
  }
 ],
 "metadata": {
  "kernelspec": {
   "display_name": "Python 3",
   "language": "python",
   "name": "python3"
  },
  "language_info": {
   "codemirror_mode": {
    "name": "ipython",
    "version": 3
   },
   "file_extension": ".py",
   "mimetype": "text/x-python",
   "name": "python",
   "nbconvert_exporter": "python",
   "pygments_lexer": "ipython3",
   "version": "3.6.0"
  }
 },
 "nbformat": 4,
 "nbformat_minor": 2
}
